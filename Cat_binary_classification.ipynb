{
 "cells": [
  {
   "cell_type": "code",
   "execution_count": 1,
   "id": "bfbc0769",
   "metadata": {},
   "outputs": [],
   "source": [
    "\"\"\"\n",
    "Воссоздать окружение startup:\n",
    "conda env create -f startup_environment.yaml\n",
    "\n",
    "create_train_val_test_dirs: \n",
    "Создает директории для выборок train, val и test и копирует изображения в соответствующие папки\n",
    "Проверяет на валидность изображения\n",
    "\n",
    "train_yolo_model:\n",
    "Проводит обучение yolov8, сохраняает последние и наилучшие веса в папке runs/classify/train/weights/\n",
    "\"\"\"\n",
    "\n",
    "import os\n",
    "import shutil\n",
    "from PIL import Image\n",
    "import torch\n",
    "from ultralytics import YOLO\n",
    "from sklearn.model_selection import train_test_split\n",
    "import warnings\n",
    "warnings.filterwarnings(\"ignore\", category=UserWarning)"
   ]
  },
  {
   "cell_type": "code",
   "execution_count": 2,
   "id": "969d1204",
   "metadata": {},
   "outputs": [],
   "source": [
    "output_dirs = {\n",
    "    \"train\": \"data/train\",\n",
    "    \"val\": \"data/val\",\n",
    "    \"test\": \"data/test\"}\n",
    "\n",
    "classes = [\"Cat\", \"Dog\"] \n",
    "supported_formats = ('jpg', 'jpeg', 'png', 'bmp', 'tif', 'tiff', 'webp', 'pfm', 'dng', 'mpo')\n",
    "unsupported_formats = ('gif', 'psd')\n"
   ]
  },
  {
   "cell_type": "code",
   "execution_count": 3,
   "id": "1a71bcb8",
   "metadata": {},
   "outputs": [],
   "source": [
    "def convert_images(source_dir, unsupported_formats):\n",
    "    \"\"\"\n",
    "    Конвертирует изображения из неподдерживаемых форматов в формат JPEG\n",
    "    source_dir: Путь к директории, содержащей изображения\n",
    "    \"\"\"\n",
    "    for root, _, files in os.walk(source_dir):\n",
    "        for file in files:\n",
    "            file_path = os.path.join(root, file)\n",
    "            file_ext = file.split('.')[-1].lower()\n",
    "\n",
    "            if file_ext in unsupported_formats:\n",
    "                try:\n",
    "                    img = Image.open(file_path)\n",
    "                    file_base = os.path.splitext(file)[0]\n",
    "                    new_file_path = os.path.join(root, file_base + '.jpg')\n",
    "                    img.convert('RGB').save(new_file_path, \"JPEG\")\n",
    "                    os.remove(file_path)\n",
    "                except:\n",
    "                    pass\n",
    "\n",
    "def is_image_valid(image_path, supported_formats):\n",
    "    \"\"\"\n",
    "    Проверяет, является ли изображение размером больше 10x10 пикселей и поддерживаемого формата\n",
    "    image_path: Путь к изображению\n",
    "    \"\"\"\n",
    "    try:\n",
    "        img = Image.open(image_path)\n",
    "        if img.format.lower() not in supported_formats:\n",
    "            return False\n",
    "        if img.size[0] < 10 or img.size[1] < 10:\n",
    "            return False\n",
    "        img.verify()\n",
    "        img.close()\n",
    "        return True\n",
    "    except Exception:\n",
    "        return False\n",
    "\n",
    "def create_train_val_test_dirs(data_dir, output_dirs, classes,supported_formats, unsupported_formats, test_size=0.2, random_state=42):\n",
    "    \"\"\"\n",
    "    Создает директории для выборок train, val и test и копирует изображения в соответствующие папки\n",
    "\n",
    "    data_dir: Путь к исходной папке с данными\n",
    "    output_dirs: Словарь с путями для папок train, val и test\n",
    "    classes: Список классов данных\n",
    "    supported_formats: Поддерживаемые форматы изображений\n",
    "    unsupported_formats: Неподдерживаемые форматы изображений\n",
    "    test_size: Доля данных для валидации/тестирования   \n",
    "    random_state: Значение для генератора случайных чисел\n",
    "    \"\"\"\n",
    "    for dir_name in output_dirs.values():\n",
    "        os.makedirs(dir_name, exist_ok=True)\n",
    "\n",
    "    for class_name in classes:\n",
    "        class_dir = os.path.join(data_dir, class_name)\n",
    "        list_images = [img for img in os.listdir(class_dir) if os.path.isfile(os.path.join(class_dir, img))]\n",
    "\n",
    "        convert_images(class_dir, unsupported_formats)\n",
    "\n",
    "        valid_images = [img for img in list_images if is_image_valid(os.path.join(class_dir, img), supported_formats)]\n",
    "\n",
    "        train_images, val_test_images = train_test_split(valid_images, test_size=test_size * 2, random_state=random_state)\n",
    "        val_images, test_images = train_test_split(val_test_images, test_size=0.5, random_state=random_state)\n",
    "\n",
    "        for subset_name, imgs in zip([\"train\", \"val\", \"test\"], [train_images, val_images, test_images]):\n",
    "            output_class_dir = os.path.join(output_dirs[subset_name], class_name)\n",
    "            os.makedirs(output_class_dir, exist_ok=True)\n",
    "            for img in imgs:\n",
    "                try:\n",
    "                    shutil.copy(os.path.join(class_dir, img), os.path.join(output_class_dir, img))\n",
    "                except:\n",
    "                    pass\n",
    "                    \n",
    "\n",
    "\n",
    "def train_yolo_model(model, data_path, epochs=50, patience = 5, img_size=640, batch_size=16, save_dir=\"runs/train\", verbose=True, dropout=0.5):\n",
    "    \"\"\"\n",
    "    Тренировка модели YOLOv8 с ранней остановкой\n",
    "\n",
    "    model: Модель YOLOv8\n",
    "    data_path: Путь к данным для обучения\n",
    "    epochs: Количество эпох для обучения\n",
    "    patience: Количество эпох для ранней остановки\n",
    "    img_size: Размер изображения для обучения\n",
    "    batch_size: Размер батча для обучения\n",
    "    save_dir: Директория для сохранения моделей и логов\n",
    "    verbose: Управление выводом логов на уровне батчей\n",
    "    dropout: Отсев\n",
    "\n",
    "    \"\"\"\n",
    "\n",
    "    results = model.train(\n",
    "        data=data_path,\n",
    "        epochs=epochs,\n",
    "        patience = patience,\n",
    "        imgsz=img_size,\n",
    "        batch=batch_size,        \n",
    "        save_dir=save_dir,           \n",
    "        verbose=verbose,\n",
    "        dropout=dropout)\n",
    "\n",
    "    return results"
   ]
  },
  {
   "cell_type": "code",
   "execution_count": 4,
   "id": "cab2296c",
   "metadata": {},
   "outputs": [
    {
     "name": "stdout",
     "output_type": "stream",
     "text": [
      "New https://pypi.org/project/ultralytics/8.2.45 available  Update with 'pip install -U ultralytics'\n",
      "Ultralytics YOLOv8.2.42  Python-3.9.19 torch-2.2.2 CUDA:0 (NVIDIA GeForce RTX 3050, 8192MiB)\n",
      "\u001b[34m\u001b[1mengine\\trainer: \u001b[0mtask=classify, mode=train, model=yolov8n-cls.pt, data=data, epochs=50, time=None, patience=5, batch=16, imgsz=640, save=True, save_period=-1, cache=False, device=None, workers=8, project=None, name=train, exist_ok=False, pretrained=True, optimizer=auto, verbose=True, seed=0, deterministic=True, single_cls=False, rect=False, cos_lr=False, close_mosaic=10, resume=False, amp=True, fraction=1.0, profile=False, freeze=None, multi_scale=False, overlap_mask=True, mask_ratio=4, dropout=0.5, val=True, split=val, save_json=False, save_hybrid=False, conf=None, iou=0.7, max_det=300, half=False, dnn=False, plots=True, source=None, vid_stride=1, stream_buffer=False, visualize=False, augment=False, agnostic_nms=False, classes=None, retina_masks=False, embed=None, show=False, save_frames=False, save_txt=False, save_conf=False, save_crop=False, show_labels=True, show_conf=True, show_boxes=True, line_width=None, format=torchscript, keras=False, optimize=False, int8=False, dynamic=False, simplify=False, opset=None, workspace=4, nms=False, lr0=0.01, lrf=0.01, momentum=0.937, weight_decay=0.0005, warmup_epochs=3.0, warmup_momentum=0.8, warmup_bias_lr=0.1, box=7.5, cls=0.5, dfl=1.5, pose=12.0, kobj=1.0, label_smoothing=0.0, nbs=64, hsv_h=0.015, hsv_s=0.7, hsv_v=0.4, degrees=0.0, translate=0.1, scale=0.5, shear=0.0, perspective=0.0, flipud=0.0, fliplr=0.5, bgr=0.0, mosaic=1.0, mixup=0.0, copy_paste=0.0, auto_augment=randaugment, erasing=0.4, crop_fraction=1.0, cfg=None, tracker=botsort.yaml, save_dir=runs\\classify\\train\n",
      "\u001b[34m\u001b[1mtrain:\u001b[0m C:\\Users\\\\Desktop\\startup\\data\\train... found 14967 images in 2 classes  \n",
      "\u001b[34m\u001b[1mval:\u001b[0m C:\\Users\\\\Desktop\\startup\\data\\val... found 4989 images in 2 classes  \n",
      "\u001b[34m\u001b[1mtest:\u001b[0m C:\\Users\\\\Desktop\\startup\\data\\test... found 4989 images in 2 classes  \n",
      "Overriding model.yaml nc=1000 with nc=2\n",
      "\n",
      "                   from  n    params  module                                       arguments                     \n",
      "  0                  -1  1       464  ultralytics.nn.modules.conv.Conv             [3, 16, 3, 2]                 \n",
      "  1                  -1  1      4672  ultralytics.nn.modules.conv.Conv             [16, 32, 3, 2]                \n",
      "  2                  -1  1      7360  ultralytics.nn.modules.block.C2f             [32, 32, 1, True]             \n",
      "  3                  -1  1     18560  ultralytics.nn.modules.conv.Conv             [32, 64, 3, 2]                \n",
      "  4                  -1  2     49664  ultralytics.nn.modules.block.C2f             [64, 64, 2, True]             \n",
      "  5                  -1  1     73984  ultralytics.nn.modules.conv.Conv             [64, 128, 3, 2]               \n",
      "  6                  -1  2    197632  ultralytics.nn.modules.block.C2f             [128, 128, 2, True]           \n",
      "  7                  -1  1    295424  ultralytics.nn.modules.conv.Conv             [128, 256, 3, 2]              \n",
      "  8                  -1  1    460288  ultralytics.nn.modules.block.C2f             [256, 256, 1, True]           \n",
      "  9                  -1  1    332802  ultralytics.nn.modules.head.Classify         [256, 2]                      \n",
      "YOLOv8n-cls summary: 99 layers, 1440850 parameters, 1440850 gradients, 3.4 GFLOPs\n",
      "Transferred 156/158 items from pretrained weights\n",
      "\u001b[34m\u001b[1mTensorBoard: \u001b[0mStart with 'tensorboard --logdir runs\\classify\\train', view at http://localhost:6006/\n",
      "\u001b[34m\u001b[1mAMP: \u001b[0mrunning Automatic Mixed Precision (AMP) checks with YOLOv8n...\n",
      "\u001b[34m\u001b[1mAMP: \u001b[0mchecks passed \n"
     ]
    },
    {
     "name": "stderr",
     "output_type": "stream",
     "text": [
      "\u001b[34m\u001b[1mtrain: \u001b[0mScanning C:\\Users\\буся\\Desktop\\startup\\data\\train... 14967 images, 0 corrupt: 100%|██████████| 14967/14967 [00:0\u001b[0m"
     ]
    },
    {
     "name": "stdout",
     "output_type": "stream",
     "text": [
      "\u001b[34m\u001b[1mtrain: \u001b[0mWARNING  C:\\Users\\\\Desktop\\startup\\data\\train\\Cat\\10163.jpg: corrupt JPEG restored and saved\n",
      "\u001b[34m\u001b[1mtrain: \u001b[0mWARNING  C:\\Users\\\\Desktop\\startup\\data\\train\\Cat\\1017.jpg: corrupt JPEG restored and saved\n",
      "\u001b[34m\u001b[1mtrain: \u001b[0mWARNING  C:\\Users\\\\Desktop\\startup\\data\\train\\Cat\\10369.jpg: corrupt JPEG restored and saved\n",
      "\u001b[34m\u001b[1mtrain: \u001b[0mWARNING  C:\\Users\\\\Desktop\\startup\\data\\train\\Cat\\10472.jpg: corrupt JPEG restored and saved\n",
      "\u001b[34m\u001b[1mtrain: \u001b[0mWARNING  C:\\Users\\\\Desktop\\startup\\data\\train\\Cat\\10623.jpg: corrupt JPEG restored and saved\n",
      "\u001b[34m\u001b[1mtrain: \u001b[0mWARNING  C:\\Users\\\\Desktop\\startup\\data\\train\\Cat\\11091.jpg: corrupt JPEG restored and saved\n",
      "\u001b[34m\u001b[1mtrain: \u001b[0mWARNING  C:\\Users\\\\Desktop\\startup\\data\\train\\Cat\\11222.jpg: corrupt JPEG restored and saved\n",
      "\u001b[34m\u001b[1mtrain: \u001b[0mWARNING  C:\\Users\\\\Desktop\\startup\\data\\train\\Cat\\12145.jpg: corrupt JPEG restored and saved\n",
      "\u001b[34m\u001b[1mtrain: \u001b[0mWARNING  C:\\Users\\\\Desktop\\startup\\data\\train\\Cat\\12238.jpg: corrupt JPEG restored and saved\n",
      "\u001b[34m\u001b[1mtrain: \u001b[0mWARNING  C:\\Users\\\\Desktop\\startup\\data\\train\\Cat\\1344.jpg: corrupt JPEG restored and saved\n",
      "\u001b[34m\u001b[1mtrain: \u001b[0mWARNING  C:\\Users\\\\Desktop\\startup\\data\\train\\Cat\\2301.jpg: corrupt JPEG restored and saved\n",
      "\u001b[34m\u001b[1mtrain: \u001b[0mWARNING  C:\\Users\\\\Desktop\\startup\\data\\train\\Cat\\2669.jpg: corrupt JPEG restored and saved\n",
      "\u001b[34m\u001b[1mtrain: \u001b[0mWARNING  C:\\Users\\\\Desktop\\startup\\data\\train\\Cat\\3199.jpg: corrupt JPEG restored and saved\n",
      "\u001b[34m\u001b[1mtrain: \u001b[0mWARNING  C:\\Users\\\\Desktop\\startup\\data\\train\\Cat\\3204.jpg: corrupt JPEG restored and saved\n",
      "\u001b[34m\u001b[1mtrain: \u001b[0mWARNING  C:\\Users\\\\Desktop\\startup\\data\\train\\Cat\\3458.jpg: corrupt JPEG restored and saved\n",
      "\u001b[34m\u001b[1mtrain: \u001b[0mWARNING  C:\\Users\\\\Desktop\\startup\\data\\train\\Cat\\3518.jpg: corrupt JPEG restored and saved\n",
      "\u001b[34m\u001b[1mtrain: \u001b[0mWARNING  C:\\Users\\\\Desktop\\startup\\data\\train\\Cat\\4125.jpg: corrupt JPEG restored and saved\n",
      "\u001b[34m\u001b[1mtrain: \u001b[0mWARNING  C:\\Users\\\\Desktop\\startup\\data\\train\\Cat\\4205.jpg: corrupt JPEG restored and saved\n",
      "\u001b[34m\u001b[1mtrain: \u001b[0mWARNING  C:\\Users\\\\Desktop\\startup\\data\\train\\Cat\\4342.jpg: corrupt JPEG restored and saved\n",
      "\u001b[34m\u001b[1mtrain: \u001b[0mWARNING  C:\\Users\\\\Desktop\\startup\\data\\train\\Cat\\4345.jpg: corrupt JPEG restored and saved\n",
      "\u001b[34m\u001b[1mtrain: \u001b[0mWARNING  C:\\Users\\\\Desktop\\startup\\data\\train\\Cat\\4521.jpg: corrupt JPEG restored and saved\n",
      "\u001b[34m\u001b[1mtrain: \u001b[0mWARNING  C:\\Users\\\\Desktop\\startup\\data\\train\\Cat\\4836.jpg: corrupt JPEG restored and saved\n",
      "\u001b[34m\u001b[1mtrain: \u001b[0mWARNING  C:\\Users\\\\Desktop\\startup\\data\\train\\Cat\\4859.jpg: corrupt JPEG restored and saved\n",
      "\u001b[34m\u001b[1mtrain: \u001b[0mWARNING  C:\\Users\\\\Desktop\\startup\\data\\train\\Cat\\5253.jpg: corrupt JPEG restored and saved\n",
      "\u001b[34m\u001b[1mtrain: \u001b[0mWARNING  C:\\Users\\\\Desktop\\startup\\data\\train\\Cat\\5254.jpg: corrupt JPEG restored and saved\n",
      "\u001b[34m\u001b[1mtrain: \u001b[0mWARNING  C:\\Users\\\\Desktop\\startup\\data\\train\\Cat\\5378.jpg: corrupt JPEG restored and saved\n",
      "\u001b[34m\u001b[1mtrain: \u001b[0mWARNING  C:\\Users\\\\Desktop\\startup\\data\\train\\Cat\\6056.jpg: corrupt JPEG restored and saved\n",
      "\u001b[34m\u001b[1mtrain: \u001b[0mWARNING  C:\\Users\\\\Desktop\\startup\\data\\train\\Cat\\6309.jpg: corrupt JPEG restored and saved\n",
      "\u001b[34m\u001b[1mtrain: \u001b[0mWARNING  C:\\Users\\\\Desktop\\startup\\data\\train\\Cat\\631.jpg: corrupt JPEG restored and saved\n",
      "\u001b[34m\u001b[1mtrain: \u001b[0mWARNING  C:\\Users\\\\Desktop\\startup\\data\\train\\Cat\\7185.jpg: corrupt JPEG restored and saved\n",
      "\u001b[34m\u001b[1mtrain: \u001b[0mWARNING  C:\\Users\\\\Desktop\\startup\\data\\train\\Cat\\7487.jpg: corrupt JPEG restored and saved\n",
      "\u001b[34m\u001b[1mtrain: \u001b[0mWARNING  C:\\Users\\\\Desktop\\startup\\data\\train\\Cat\\7597.jpg: corrupt JPEG restored and saved\n",
      "\u001b[34m\u001b[1mtrain: \u001b[0mWARNING  C:\\Users\\\\Desktop\\startup\\data\\train\\Cat\\780.jpg: corrupt JPEG restored and saved\n",
      "\u001b[34m\u001b[1mtrain: \u001b[0mWARNING  C:\\Users\\\\Desktop\\startup\\data\\train\\Cat\\7941.jpg: corrupt JPEG restored and saved\n",
      "\u001b[34m\u001b[1mtrain: \u001b[0mWARNING  C:\\Users\\\\Desktop\\startup\\data\\train\\Cat\\8224.jpg: corrupt JPEG restored and saved\n",
      "\u001b[34m\u001b[1mtrain: \u001b[0mWARNING  C:\\Users\\\\Desktop\\startup\\data\\train\\Cat\\8577.jpg: corrupt JPEG restored and saved\n",
      "\u001b[34m\u001b[1mtrain: \u001b[0mWARNING  C:\\Users\\\\Desktop\\startup\\data\\train\\Cat\\8646.jpg: corrupt JPEG restored and saved\n",
      "\u001b[34m\u001b[1mtrain: \u001b[0mWARNING  C:\\Users\\\\Desktop\\startup\\data\\train\\Cat\\9297.jpg: corrupt JPEG restored and saved\n",
      "\u001b[34m\u001b[1mtrain: \u001b[0mWARNING  C:\\Users\\\\Desktop\\startup\\data\\train\\Cat\\9815.jpg: corrupt JPEG restored and saved\n",
      "\u001b[34m\u001b[1mtrain: \u001b[0mWARNING  C:\\Users\\\\Desktop\\startup\\data\\train\\Dog\\10279.jpg: corrupt JPEG restored and saved\n",
      "\u001b[34m\u001b[1mtrain: \u001b[0mWARNING  C:\\Users\\\\Desktop\\startup\\data\\train\\Dog\\10307.jpg: corrupt JPEG restored and saved\n",
      "\u001b[34m\u001b[1mtrain: \u001b[0mWARNING  C:\\Users\\\\Desktop\\startup\\data\\train\\Dog\\10846.jpg: corrupt JPEG restored and saved\n",
      "\u001b[34m\u001b[1mtrain: \u001b[0mWARNING  C:\\Users\\\\Desktop\\startup\\data\\train\\Dog\\11104.jpg: corrupt JPEG restored and saved\n",
      "\u001b[34m\u001b[1mtrain: \u001b[0mWARNING  C:\\Users\\\\Desktop\\startup\\data\\train\\Dog\\1117.jpg: corrupt JPEG restored and saved\n",
      "\u001b[34m\u001b[1mtrain: \u001b[0mWARNING  C:\\Users\\\\Desktop\\startup\\data\\train\\Dog\\1123.jpg: corrupt JPEG restored and saved\n",
      "\u001b[34m\u001b[1mtrain: \u001b[0mWARNING  C:\\Users\\\\Desktop\\startup\\data\\train\\Dog\\1257.jpg: corrupt JPEG restored and saved\n",
      "\u001b[34m\u001b[1mtrain: \u001b[0mWARNING  C:\\Users\\\\Desktop\\startup\\data\\train\\Dog\\1546.jpg: corrupt JPEG restored and saved\n",
      "\u001b[34m\u001b[1mtrain: \u001b[0mWARNING  C:\\Users\\\\Desktop\\startup\\data\\train\\Dog\\1721.jpg: corrupt JPEG restored and saved\n",
      "\u001b[34m\u001b[1mtrain: \u001b[0mWARNING  C:\\Users\\\\Desktop\\startup\\data\\train\\Dog\\2136.jpg: corrupt JPEG restored and saved\n",
      "\u001b[34m\u001b[1mtrain: \u001b[0mWARNING  C:\\Users\\\\Desktop\\startup\\data\\train\\Dog\\2593.jpg: corrupt JPEG restored and saved\n",
      "\u001b[34m\u001b[1mtrain: \u001b[0mWARNING  C:\\Users\\\\Desktop\\startup\\data\\train\\Dog\\2772.jpg: corrupt JPEG restored and saved\n",
      "\u001b[34m\u001b[1mtrain: \u001b[0mWARNING  C:\\Users\\\\Desktop\\startup\\data\\train\\Dog\\3280.jpg: corrupt JPEG restored and saved\n",
      "\u001b[34m\u001b[1mtrain: \u001b[0mWARNING  C:\\Users\\\\Desktop\\startup\\data\\train\\Dog\\348.jpg: corrupt JPEG restored and saved\n",
      "\u001b[34m\u001b[1mtrain: \u001b[0mWARNING  C:\\Users\\\\Desktop\\startup\\data\\train\\Dog\\3734.jpg: corrupt JPEG restored and saved\n",
      "\u001b[34m\u001b[1mtrain: \u001b[0mWARNING  C:\\Users\\\\Desktop\\startup\\data\\train\\Dog\\5212.jpg: corrupt JPEG restored and saved\n",
      "\u001b[34m\u001b[1mtrain: \u001b[0mWARNING  C:\\Users\\\\Desktop\\startup\\data\\train\\Dog\\5556.jpg: corrupt JPEG restored and saved\n",
      "\u001b[34m\u001b[1mtrain: \u001b[0mWARNING  C:\\Users\\\\Desktop\\startup\\data\\train\\Dog\\5728.jpg: corrupt JPEG restored and saved\n",
      "\u001b[34m\u001b[1mtrain: \u001b[0mWARNING  C:\\Users\\\\Desktop\\startup\\data\\train\\Dog\\6052.jpg: corrupt JPEG restored and saved\n",
      "\u001b[34m\u001b[1mtrain: \u001b[0mWARNING  C:\\Users\\\\Desktop\\startup\\data\\train\\Dog\\6620.jpg: corrupt JPEG restored and saved\n",
      "\u001b[34m\u001b[1mtrain: \u001b[0mWARNING  C:\\Users\\\\Desktop\\startup\\data\\train\\Dog\\6943.jpg: corrupt JPEG restored and saved\n",
      "\u001b[34m\u001b[1mtrain: \u001b[0mWARNING  C:\\Users\\\\Desktop\\startup\\data\\train\\Dog\\7006.jpg: corrupt JPEG restored and saved\n",
      "\u001b[34m\u001b[1mtrain: \u001b[0mWARNING  C:\\Users\\\\Desktop\\startup\\data\\train\\Dog\\7397.jpg: corrupt JPEG restored and saved\n",
      "\u001b[34m\u001b[1mtrain: \u001b[0mWARNING  C:\\Users\\\\Desktop\\startup\\data\\train\\Dog\\7662.jpg: corrupt JPEG restored and saved\n",
      "\u001b[34m\u001b[1mtrain: \u001b[0mWARNING  C:\\Users\\\\Desktop\\startup\\data\\train\\Dog\\7675.jpg: corrupt JPEG restored and saved\n",
      "\u001b[34m\u001b[1mtrain: \u001b[0mWARNING  C:\\Users\\\\Desktop\\startup\\data\\train\\Dog\\7985.jpg: corrupt JPEG restored and saved\n",
      "\u001b[34m\u001b[1mtrain: \u001b[0mWARNING  C:\\Users\\\\Desktop\\startup\\data\\train\\Dog\\7989.jpg: corrupt JPEG restored and saved\n",
      "\u001b[34m\u001b[1mtrain: \u001b[0mWARNING  C:\\Users\\\\Desktop\\startup\\data\\train\\Dog\\8053.jpg: corrupt JPEG restored and saved\n",
      "\u001b[34m\u001b[1mtrain: \u001b[0mWARNING  C:\\Users\\\\Desktop\\startup\\data\\train\\Dog\\8371.jpg: corrupt JPEG restored and saved\n",
      "\u001b[34m\u001b[1mtrain: \u001b[0mWARNING  C:\\Users\\\\Desktop\\startup\\data\\train\\Dog\\868.jpg: corrupt JPEG restored and saved\n",
      "\u001b[34m\u001b[1mtrain: \u001b[0mWARNING  C:\\Users\\\\Desktop\\startup\\data\\train\\Dog\\8926.jpg: corrupt JPEG restored and saved\n",
      "\u001b[34m\u001b[1mtrain: \u001b[0mWARNING  C:\\Users\\\\Desktop\\startup\\data\\train\\Dog\\8940.jpg: corrupt JPEG restored and saved\n",
      "\u001b[34m\u001b[1mtrain: \u001b[0mWARNING  C:\\Users\\\\Desktop\\startup\\data\\train\\Dog\\91.jpg: corrupt JPEG restored and saved\n",
      "\u001b[34m\u001b[1mtrain: \u001b[0mWARNING  C:\\Users\\\\Desktop\\startup\\data\\train\\Dog\\9433.jpg: corrupt JPEG restored and saved\n",
      "\u001b[34m\u001b[1mtrain: \u001b[0mWARNING  C:\\Users\\\\Desktop\\startup\\data\\train\\Dog\\9562.jpg: corrupt JPEG restored and saved\n",
      "\u001b[34m\u001b[1mtrain: \u001b[0mWARNING  C:\\Users\\\\Desktop\\startup\\data\\train\\Dog\\9686.jpg: corrupt JPEG restored and saved\n",
      "\u001b[34m\u001b[1mtrain: \u001b[0mWARNING  C:\\Users\\\\Desktop\\startup\\data\\train\\Dog\\9713.jpg: corrupt JPEG restored and saved\n"
     ]
    },
    {
     "name": "stderr",
     "output_type": "stream",
     "text": [
      "\n",
      "\u001b[34m\u001b[1mval: \u001b[0mScanning C:\\Users\\буся\\Desktop\\startup\\data\\val... 4989 images, 0 corrupt: 100%|██████████| 4989/4989 [00:00<?, ?i\u001b[0m"
     ]
    },
    {
     "name": "stdout",
     "output_type": "stream",
     "text": [
      "\u001b[34m\u001b[1mval: \u001b[0mWARNING  C:\\Users\\\\Desktop\\startup\\data\\val\\Cat\\10026.jpg: corrupt JPEG restored and saved\n",
      "\u001b[34m\u001b[1mval: \u001b[0mWARNING  C:\\Users\\\\Desktop\\startup\\data\\val\\Cat\\10188.jpg: corrupt JPEG restored and saved\n",
      "\u001b[34m\u001b[1mval: \u001b[0mWARNING  C:\\Users\\\\Desktop\\startup\\data\\val\\Cat\\1161.jpg: corrupt JPEG restored and saved\n",
      "\u001b[34m\u001b[1mval: \u001b[0mWARNING  C:\\Users\\\\Desktop\\startup\\data\\val\\Cat\\117.jpg: corrupt JPEG restored and saved\n",
      "\u001b[34m\u001b[1mval: \u001b[0mWARNING  C:\\Users\\\\Desktop\\startup\\data\\val\\Cat\\12247.jpg: corrupt JPEG restored and saved\n",
      "\u001b[34m\u001b[1mval: \u001b[0mWARNING  C:\\Users\\\\Desktop\\startup\\data\\val\\Cat\\3237.jpg: corrupt JPEG restored and saved\n",
      "\u001b[34m\u001b[1mval: \u001b[0mWARNING  C:\\Users\\\\Desktop\\startup\\data\\val\\Cat\\4241.jpg: corrupt JPEG restored and saved\n",
      "\u001b[34m\u001b[1mval: \u001b[0mWARNING  C:\\Users\\\\Desktop\\startup\\data\\val\\Cat\\5832.jpg: corrupt JPEG restored and saved\n",
      "\u001b[34m\u001b[1mval: \u001b[0mWARNING  C:\\Users\\\\Desktop\\startup\\data\\val\\Cat\\7354.jpg: corrupt JPEG restored and saved\n",
      "\u001b[34m\u001b[1mval: \u001b[0mWARNING  C:\\Users\\\\Desktop\\startup\\data\\val\\Cat\\7463.jpg: corrupt JPEG restored and saved\n",
      "\u001b[34m\u001b[1mval: \u001b[0mWARNING  C:\\Users\\\\Desktop\\startup\\data\\val\\Dog\\11870.jpg: corrupt JPEG restored and saved\n",
      "\u001b[34m\u001b[1mval: \u001b[0mWARNING  C:\\Users\\\\Desktop\\startup\\data\\val\\Dog\\1331.jpg: corrupt JPEG restored and saved\n",
      "\u001b[34m\u001b[1mval: \u001b[0mWARNING  C:\\Users\\\\Desktop\\startup\\data\\val\\Dog\\2439.jpg: corrupt JPEG restored and saved\n",
      "\u001b[34m\u001b[1mval: \u001b[0mWARNING  C:\\Users\\\\Desktop\\startup\\data\\val\\Dog\\4349.jpg: corrupt JPEG restored and saved\n",
      "\u001b[34m\u001b[1mval: \u001b[0mWARNING  C:\\Users\\\\Desktop\\startup\\data\\val\\Dog\\6616.jpg: corrupt JPEG restored and saved\n",
      "\u001b[34m\u001b[1mval: \u001b[0mWARNING  C:\\Users\\\\Desktop\\startup\\data\\val\\Dog\\679.jpg: corrupt JPEG restored and saved\n",
      "\u001b[34m\u001b[1mval: \u001b[0mWARNING  C:\\Users\\\\Desktop\\startup\\data\\val\\Dog\\7146.jpg: corrupt JPEG restored and saved\n",
      "\u001b[34m\u001b[1mval: \u001b[0mWARNING  C:\\Users\\\\Desktop\\startup\\data\\val\\Dog\\7729.jpg: corrupt JPEG restored and saved\n",
      "\u001b[34m\u001b[1mval: \u001b[0mWARNING  C:\\Users\\\\Desktop\\startup\\data\\val\\Dog\\8979.jpg: corrupt JPEG restored and saved\n",
      "\u001b[34m\u001b[1mval: \u001b[0mWARNING  C:\\Users\\\\Desktop\\startup\\data\\val\\Dog\\9062.jpg: corrupt JPEG restored and saved\n",
      "\u001b[34m\u001b[1mval: \u001b[0mWARNING  C:\\Users\\\\Desktop\\startup\\data\\val\\Dog\\9158.jpg: corrupt JPEG restored and saved\n"
     ]
    },
    {
     "name": "stderr",
     "output_type": "stream",
     "text": [
      "\n"
     ]
    },
    {
     "name": "stdout",
     "output_type": "stream",
     "text": [
      "\u001b[34m\u001b[1moptimizer:\u001b[0m 'optimizer=auto' found, ignoring 'lr0=0.01' and 'momentum=0.937' and determining best 'optimizer', 'lr0' and 'momentum' automatically... \n",
      "\u001b[34m\u001b[1moptimizer:\u001b[0m SGD(lr=0.01, momentum=0.9) with parameter groups 26 weight(decay=0.0), 27 weight(decay=0.0005), 27 bias(decay=0.0)\n",
      "\u001b[34m\u001b[1mTensorBoard: \u001b[0mmodel graph visualization added \n",
      "Image sizes 640 train, 640 val\n",
      "Using 8 dataloader workers\n",
      "Logging results to \u001b[1mruns\\classify\\train\u001b[0m\n",
      "Starting training for 50 epochs...\n",
      "\n",
      "      Epoch    GPU_mem       loss  Instances       Size\n"
     ]
    },
    {
     "name": "stderr",
     "output_type": "stream",
     "text": [
      "       1/50      1.46G     0.4511          7        640: 100%|██████████| 936/936 [01:32<00:00, 10.17it/s]\n",
      "               classes   top1_acc   top5_acc: 100%|██████████| 156/156 [00:18<00:00,  8.60it/s]"
     ]
    },
    {
     "name": "stdout",
     "output_type": "stream",
     "text": [
      "                   all      0.936          1\n"
     ]
    },
    {
     "name": "stderr",
     "output_type": "stream",
     "text": [
      "\n"
     ]
    },
    {
     "name": "stdout",
     "output_type": "stream",
     "text": [
      "\n",
      "      Epoch    GPU_mem       loss  Instances       Size\n"
     ]
    },
    {
     "name": "stderr",
     "output_type": "stream",
     "text": [
      "       2/50      1.44G     0.2479          7        640: 100%|██████████| 936/936 [01:15<00:00, 12.43it/s]\n",
      "               classes   top1_acc   top5_acc: 100%|██████████| 156/156 [00:18<00:00,  8.42it/s]"
     ]
    },
    {
     "name": "stdout",
     "output_type": "stream",
     "text": [
      "                   all      0.967          1\n"
     ]
    },
    {
     "name": "stderr",
     "output_type": "stream",
     "text": [
      "\n"
     ]
    },
    {
     "name": "stdout",
     "output_type": "stream",
     "text": [
      "\n",
      "      Epoch    GPU_mem       loss  Instances       Size\n"
     ]
    },
    {
     "name": "stderr",
     "output_type": "stream",
     "text": [
      "       3/50      1.44G     0.2279          7        640: 100%|██████████| 936/936 [01:12<00:00, 12.87it/s]\n",
      "               classes   top1_acc   top5_acc: 100%|██████████| 156/156 [00:19<00:00,  8.10it/s]"
     ]
    },
    {
     "name": "stdout",
     "output_type": "stream",
     "text": [
      "                   all      0.957          1\n"
     ]
    },
    {
     "name": "stderr",
     "output_type": "stream",
     "text": [
      "\n"
     ]
    },
    {
     "name": "stdout",
     "output_type": "stream",
     "text": [
      "\n",
      "      Epoch    GPU_mem       loss  Instances       Size\n"
     ]
    },
    {
     "name": "stderr",
     "output_type": "stream",
     "text": [
      "       4/50      1.44G     0.1985          7        640: 100%|██████████| 936/936 [01:12<00:00, 12.97it/s]\n",
      "               classes   top1_acc   top5_acc: 100%|██████████| 156/156 [00:19<00:00,  7.97it/s]"
     ]
    },
    {
     "name": "stdout",
     "output_type": "stream",
     "text": [
      "                   all      0.964          1\n"
     ]
    },
    {
     "name": "stderr",
     "output_type": "stream",
     "text": [
      "\n"
     ]
    },
    {
     "name": "stdout",
     "output_type": "stream",
     "text": [
      "\n",
      "      Epoch    GPU_mem       loss  Instances       Size\n"
     ]
    },
    {
     "name": "stderr",
     "output_type": "stream",
     "text": [
      "       5/50      1.44G     0.1475          7        640: 100%|██████████| 936/936 [01:12<00:00, 12.93it/s]\n",
      "               classes   top1_acc   top5_acc: 100%|██████████| 156/156 [00:20<00:00,  7.60it/s]"
     ]
    },
    {
     "name": "stdout",
     "output_type": "stream",
     "text": [
      "                   all      0.977          1\n"
     ]
    },
    {
     "name": "stderr",
     "output_type": "stream",
     "text": [
      "\n"
     ]
    },
    {
     "name": "stdout",
     "output_type": "stream",
     "text": [
      "\n",
      "      Epoch    GPU_mem       loss  Instances       Size\n"
     ]
    },
    {
     "name": "stderr",
     "output_type": "stream",
     "text": [
      "       6/50      1.44G     0.1239          7        640: 100%|██████████| 936/936 [01:13<00:00, 12.70it/s]\n",
      "               classes   top1_acc   top5_acc: 100%|██████████| 156/156 [00:20<00:00,  7.47it/s]"
     ]
    },
    {
     "name": "stdout",
     "output_type": "stream",
     "text": [
      "                   all      0.975          1\n"
     ]
    },
    {
     "name": "stderr",
     "output_type": "stream",
     "text": [
      "\n"
     ]
    },
    {
     "name": "stdout",
     "output_type": "stream",
     "text": [
      "\n",
      "      Epoch    GPU_mem       loss  Instances       Size\n"
     ]
    },
    {
     "name": "stderr",
     "output_type": "stream",
     "text": [
      "       7/50      1.44G     0.1135          7        640: 100%|██████████| 936/936 [01:13<00:00, 12.81it/s]\n",
      "               classes   top1_acc   top5_acc: 100%|██████████| 156/156 [00:20<00:00,  7.73it/s]"
     ]
    },
    {
     "name": "stdout",
     "output_type": "stream",
     "text": [
      "                   all      0.976          1\n"
     ]
    },
    {
     "name": "stderr",
     "output_type": "stream",
     "text": [
      "\n"
     ]
    },
    {
     "name": "stdout",
     "output_type": "stream",
     "text": [
      "\n",
      "      Epoch    GPU_mem       loss  Instances       Size\n"
     ]
    },
    {
     "name": "stderr",
     "output_type": "stream",
     "text": [
      "       8/50      1.44G     0.1068          7        640: 100%|██████████| 936/936 [01:13<00:00, 12.82it/s]\n",
      "               classes   top1_acc   top5_acc: 100%|██████████| 156/156 [00:20<00:00,  7.57it/s]"
     ]
    },
    {
     "name": "stdout",
     "output_type": "stream",
     "text": [
      "                   all      0.975          1\n"
     ]
    },
    {
     "name": "stderr",
     "output_type": "stream",
     "text": [
      "\n"
     ]
    },
    {
     "name": "stdout",
     "output_type": "stream",
     "text": [
      "\n",
      "      Epoch    GPU_mem       loss  Instances       Size\n"
     ]
    },
    {
     "name": "stderr",
     "output_type": "stream",
     "text": [
      "       9/50      1.44G     0.1009          7        640: 100%|██████████| 936/936 [01:12<00:00, 12.84it/s]\n",
      "               classes   top1_acc   top5_acc: 100%|██████████| 156/156 [00:20<00:00,  7.64it/s]"
     ]
    },
    {
     "name": "stdout",
     "output_type": "stream",
     "text": [
      "                   all      0.981          1\n"
     ]
    },
    {
     "name": "stderr",
     "output_type": "stream",
     "text": [
      "\n"
     ]
    },
    {
     "name": "stdout",
     "output_type": "stream",
     "text": [
      "\n",
      "      Epoch    GPU_mem       loss  Instances       Size\n"
     ]
    },
    {
     "name": "stderr",
     "output_type": "stream",
     "text": [
      "      10/50      1.44G    0.09486          7        640: 100%|██████████| 936/936 [01:12<00:00, 12.85it/s]\n",
      "               classes   top1_acc   top5_acc: 100%|██████████| 156/156 [00:20<00:00,  7.73it/s]"
     ]
    },
    {
     "name": "stdout",
     "output_type": "stream",
     "text": [
      "                   all      0.981          1\n"
     ]
    },
    {
     "name": "stderr",
     "output_type": "stream",
     "text": [
      "\n"
     ]
    },
    {
     "name": "stdout",
     "output_type": "stream",
     "text": [
      "\n",
      "      Epoch    GPU_mem       loss  Instances       Size\n"
     ]
    },
    {
     "name": "stderr",
     "output_type": "stream",
     "text": [
      "      11/50      1.44G    0.09056          7        640: 100%|██████████| 936/936 [01:12<00:00, 12.83it/s]\n",
      "               classes   top1_acc   top5_acc: 100%|██████████| 156/156 [00:20<00:00,  7.48it/s]"
     ]
    },
    {
     "name": "stdout",
     "output_type": "stream",
     "text": [
      "                   all       0.98          1\n"
     ]
    },
    {
     "name": "stderr",
     "output_type": "stream",
     "text": [
      "\n"
     ]
    },
    {
     "name": "stdout",
     "output_type": "stream",
     "text": [
      "\n",
      "      Epoch    GPU_mem       loss  Instances       Size\n"
     ]
    },
    {
     "name": "stderr",
     "output_type": "stream",
     "text": [
      "      12/50      1.44G     0.0797          7        640: 100%|██████████| 936/936 [01:12<00:00, 12.84it/s]\n",
      "               classes   top1_acc   top5_acc: 100%|██████████| 156/156 [00:20<00:00,  7.49it/s]"
     ]
    },
    {
     "name": "stdout",
     "output_type": "stream",
     "text": [
      "                   all      0.984          1\n"
     ]
    },
    {
     "name": "stderr",
     "output_type": "stream",
     "text": [
      "\n"
     ]
    },
    {
     "name": "stdout",
     "output_type": "stream",
     "text": [
      "\n",
      "      Epoch    GPU_mem       loss  Instances       Size\n"
     ]
    },
    {
     "name": "stderr",
     "output_type": "stream",
     "text": [
      "      13/50      1.44G    0.07983          7        640: 100%|██████████| 936/936 [01:13<00:00, 12.81it/s]\n",
      "               classes   top1_acc   top5_acc: 100%|██████████| 156/156 [00:20<00:00,  7.61it/s]"
     ]
    },
    {
     "name": "stdout",
     "output_type": "stream",
     "text": [
      "                   all      0.984          1\n"
     ]
    },
    {
     "name": "stderr",
     "output_type": "stream",
     "text": [
      "\n"
     ]
    },
    {
     "name": "stdout",
     "output_type": "stream",
     "text": [
      "\n",
      "      Epoch    GPU_mem       loss  Instances       Size\n"
     ]
    },
    {
     "name": "stderr",
     "output_type": "stream",
     "text": [
      "      14/50      1.44G     0.0842          7        640: 100%|██████████| 936/936 [01:13<00:00, 12.72it/s]\n",
      "               classes   top1_acc   top5_acc: 100%|██████████| 156/156 [00:20<00:00,  7.57it/s]"
     ]
    },
    {
     "name": "stdout",
     "output_type": "stream",
     "text": [
      "                   all      0.982          1\n"
     ]
    },
    {
     "name": "stderr",
     "output_type": "stream",
     "text": [
      "\n"
     ]
    },
    {
     "name": "stdout",
     "output_type": "stream",
     "text": [
      "\n",
      "      Epoch    GPU_mem       loss  Instances       Size\n"
     ]
    },
    {
     "name": "stderr",
     "output_type": "stream",
     "text": [
      "      15/50      1.44G    0.07393          7        640: 100%|██████████| 936/936 [01:12<00:00, 12.82it/s]\n",
      "               classes   top1_acc   top5_acc: 100%|██████████| 156/156 [00:20<00:00,  7.55it/s]"
     ]
    },
    {
     "name": "stdout",
     "output_type": "stream",
     "text": [
      "                   all      0.985          1\n"
     ]
    },
    {
     "name": "stderr",
     "output_type": "stream",
     "text": [
      "\n"
     ]
    },
    {
     "name": "stdout",
     "output_type": "stream",
     "text": [
      "\n",
      "      Epoch    GPU_mem       loss  Instances       Size\n"
     ]
    },
    {
     "name": "stderr",
     "output_type": "stream",
     "text": [
      "      16/50      1.44G    0.06629          7        640: 100%|██████████| 936/936 [01:15<00:00, 12.47it/s]\n",
      "               classes   top1_acc   top5_acc: 100%|██████████| 156/156 [00:21<00:00,  7.37it/s]"
     ]
    },
    {
     "name": "stdout",
     "output_type": "stream",
     "text": [
      "                   all      0.982          1\n"
     ]
    },
    {
     "name": "stderr",
     "output_type": "stream",
     "text": [
      "\n"
     ]
    },
    {
     "name": "stdout",
     "output_type": "stream",
     "text": [
      "\n",
      "      Epoch    GPU_mem       loss  Instances       Size\n"
     ]
    },
    {
     "name": "stderr",
     "output_type": "stream",
     "text": [
      "      17/50      1.44G    0.06665          7        640: 100%|██████████| 936/936 [01:13<00:00, 12.67it/s]\n",
      "               classes   top1_acc   top5_acc: 100%|██████████| 156/156 [00:21<00:00,  7.40it/s]"
     ]
    },
    {
     "name": "stdout",
     "output_type": "stream",
     "text": [
      "                   all      0.985          1\n"
     ]
    },
    {
     "name": "stderr",
     "output_type": "stream",
     "text": [
      "\n"
     ]
    },
    {
     "name": "stdout",
     "output_type": "stream",
     "text": [
      "\n",
      "      Epoch    GPU_mem       loss  Instances       Size\n"
     ]
    },
    {
     "name": "stderr",
     "output_type": "stream",
     "text": [
      "      18/50      1.44G    0.06629          7        640: 100%|██████████| 936/936 [01:13<00:00, 12.68it/s]\n",
      "               classes   top1_acc   top5_acc: 100%|██████████| 156/156 [00:19<00:00,  8.02it/s]"
     ]
    },
    {
     "name": "stdout",
     "output_type": "stream",
     "text": [
      "                   all      0.985          1\n"
     ]
    },
    {
     "name": "stderr",
     "output_type": "stream",
     "text": [
      "\n"
     ]
    },
    {
     "name": "stdout",
     "output_type": "stream",
     "text": [
      "\n",
      "      Epoch    GPU_mem       loss  Instances       Size\n"
     ]
    },
    {
     "name": "stderr",
     "output_type": "stream",
     "text": [
      "      19/50      1.44G    0.06229          7        640: 100%|██████████| 936/936 [01:12<00:00, 12.94it/s]\n",
      "               classes   top1_acc   top5_acc: 100%|██████████| 156/156 [00:20<00:00,  7.56it/s]"
     ]
    },
    {
     "name": "stdout",
     "output_type": "stream",
     "text": [
      "                   all      0.985          1\n"
     ]
    },
    {
     "name": "stderr",
     "output_type": "stream",
     "text": [
      "\n"
     ]
    },
    {
     "name": "stdout",
     "output_type": "stream",
     "text": [
      "\n",
      "      Epoch    GPU_mem       loss  Instances       Size\n"
     ]
    },
    {
     "name": "stderr",
     "output_type": "stream",
     "text": [
      "      20/50      1.44G    0.06297          7        640: 100%|██████████| 936/936 [01:13<00:00, 12.74it/s]\n",
      "               classes   top1_acc   top5_acc: 100%|██████████| 156/156 [00:21<00:00,  7.43it/s]"
     ]
    },
    {
     "name": "stdout",
     "output_type": "stream",
     "text": [
      "                   all      0.986          1\n"
     ]
    },
    {
     "name": "stderr",
     "output_type": "stream",
     "text": [
      "\n"
     ]
    },
    {
     "name": "stdout",
     "output_type": "stream",
     "text": [
      "\n",
      "      Epoch    GPU_mem       loss  Instances       Size\n"
     ]
    },
    {
     "name": "stderr",
     "output_type": "stream",
     "text": [
      "      21/50      1.44G    0.05631          7        640: 100%|██████████| 936/936 [01:13<00:00, 12.71it/s]\n",
      "               classes   top1_acc   top5_acc: 100%|██████████| 156/156 [00:20<00:00,  7.73it/s]"
     ]
    },
    {
     "name": "stdout",
     "output_type": "stream",
     "text": [
      "                   all      0.985          1\n"
     ]
    },
    {
     "name": "stderr",
     "output_type": "stream",
     "text": [
      "\n"
     ]
    },
    {
     "name": "stdout",
     "output_type": "stream",
     "text": [
      "\n",
      "      Epoch    GPU_mem       loss  Instances       Size\n"
     ]
    },
    {
     "name": "stderr",
     "output_type": "stream",
     "text": [
      "      22/50      1.44G    0.05391          7        640: 100%|██████████| 936/936 [01:12<00:00, 12.85it/s]\n",
      "               classes   top1_acc   top5_acc: 100%|██████████| 156/156 [00:20<00:00,  7.48it/s]"
     ]
    },
    {
     "name": "stdout",
     "output_type": "stream",
     "text": [
      "                   all      0.988          1\n"
     ]
    },
    {
     "name": "stderr",
     "output_type": "stream",
     "text": [
      "\n"
     ]
    },
    {
     "name": "stdout",
     "output_type": "stream",
     "text": [
      "\n",
      "      Epoch    GPU_mem       loss  Instances       Size\n"
     ]
    },
    {
     "name": "stderr",
     "output_type": "stream",
     "text": [
      "      23/50      1.44G    0.05818          7        640: 100%|██████████| 936/936 [01:13<00:00, 12.73it/s]\n",
      "               classes   top1_acc   top5_acc: 100%|██████████| 156/156 [00:20<00:00,  7.71it/s]"
     ]
    },
    {
     "name": "stdout",
     "output_type": "stream",
     "text": [
      "                   all      0.985          1\n"
     ]
    },
    {
     "name": "stderr",
     "output_type": "stream",
     "text": [
      "\n"
     ]
    },
    {
     "name": "stdout",
     "output_type": "stream",
     "text": [
      "\n",
      "      Epoch    GPU_mem       loss  Instances       Size\n"
     ]
    },
    {
     "name": "stderr",
     "output_type": "stream",
     "text": [
      "      24/50      1.44G    0.05031          7        640: 100%|██████████| 936/936 [01:12<00:00, 12.85it/s]\n",
      "               classes   top1_acc   top5_acc: 100%|██████████| 156/156 [00:20<00:00,  7.66it/s]"
     ]
    },
    {
     "name": "stdout",
     "output_type": "stream",
     "text": [
      "                   all      0.987          1\n"
     ]
    },
    {
     "name": "stderr",
     "output_type": "stream",
     "text": [
      "\n"
     ]
    },
    {
     "name": "stdout",
     "output_type": "stream",
     "text": [
      "\n",
      "      Epoch    GPU_mem       loss  Instances       Size\n"
     ]
    },
    {
     "name": "stderr",
     "output_type": "stream",
     "text": [
      "      25/50      1.44G    0.05344          7        640: 100%|██████████| 936/936 [01:12<00:00, 12.83it/s]\n",
      "               classes   top1_acc   top5_acc: 100%|██████████| 156/156 [00:20<00:00,  7.57it/s]"
     ]
    },
    {
     "name": "stdout",
     "output_type": "stream",
     "text": [
      "                   all      0.989          1\n"
     ]
    },
    {
     "name": "stderr",
     "output_type": "stream",
     "text": [
      "\n"
     ]
    },
    {
     "name": "stdout",
     "output_type": "stream",
     "text": [
      "\n",
      "      Epoch    GPU_mem       loss  Instances       Size\n"
     ]
    },
    {
     "name": "stderr",
     "output_type": "stream",
     "text": [
      "      26/50      1.44G    0.04881          7        640: 100%|██████████| 936/936 [01:12<00:00, 12.85it/s]\n",
      "               classes   top1_acc   top5_acc: 100%|██████████| 156/156 [00:20<00:00,  7.52it/s]"
     ]
    },
    {
     "name": "stdout",
     "output_type": "stream",
     "text": [
      "                   all      0.989          1\n"
     ]
    },
    {
     "name": "stderr",
     "output_type": "stream",
     "text": [
      "\n"
     ]
    },
    {
     "name": "stdout",
     "output_type": "stream",
     "text": [
      "\n",
      "      Epoch    GPU_mem       loss  Instances       Size\n"
     ]
    },
    {
     "name": "stderr",
     "output_type": "stream",
     "text": [
      "      27/50      1.44G    0.04472          7        640: 100%|██████████| 936/936 [01:12<00:00, 12.84it/s]\n",
      "               classes   top1_acc   top5_acc: 100%|██████████| 156/156 [00:20<00:00,  7.66it/s]"
     ]
    },
    {
     "name": "stdout",
     "output_type": "stream",
     "text": [
      "                   all       0.99          1\n"
     ]
    },
    {
     "name": "stderr",
     "output_type": "stream",
     "text": [
      "\n"
     ]
    },
    {
     "name": "stdout",
     "output_type": "stream",
     "text": [
      "\n",
      "      Epoch    GPU_mem       loss  Instances       Size\n"
     ]
    },
    {
     "name": "stderr",
     "output_type": "stream",
     "text": [
      "      28/50      1.44G     0.0501          7        640: 100%|██████████| 936/936 [01:12<00:00, 12.85it/s]\n",
      "               classes   top1_acc   top5_acc: 100%|██████████| 156/156 [00:20<00:00,  7.64it/s]"
     ]
    },
    {
     "name": "stdout",
     "output_type": "stream",
     "text": [
      "                   all      0.988          1\n"
     ]
    },
    {
     "name": "stderr",
     "output_type": "stream",
     "text": [
      "\n"
     ]
    },
    {
     "name": "stdout",
     "output_type": "stream",
     "text": [
      "\n",
      "      Epoch    GPU_mem       loss  Instances       Size\n"
     ]
    },
    {
     "name": "stderr",
     "output_type": "stream",
     "text": [
      "      29/50      1.44G    0.04071          7        640: 100%|██████████| 936/936 [01:12<00:00, 12.85it/s]\n",
      "               classes   top1_acc   top5_acc: 100%|██████████| 156/156 [00:20<00:00,  7.71it/s]"
     ]
    },
    {
     "name": "stdout",
     "output_type": "stream",
     "text": [
      "                   all      0.989          1\n"
     ]
    },
    {
     "name": "stderr",
     "output_type": "stream",
     "text": [
      "\n"
     ]
    },
    {
     "name": "stdout",
     "output_type": "stream",
     "text": [
      "\n",
      "      Epoch    GPU_mem       loss  Instances       Size\n"
     ]
    },
    {
     "name": "stderr",
     "output_type": "stream",
     "text": [
      "      30/50      1.44G    0.03962          7        640: 100%|██████████| 936/936 [01:13<00:00, 12.80it/s]\n",
      "               classes   top1_acc   top5_acc: 100%|██████████| 156/156 [00:20<00:00,  7.62it/s]"
     ]
    },
    {
     "name": "stdout",
     "output_type": "stream",
     "text": [
      "                   all      0.988          1\n"
     ]
    },
    {
     "name": "stderr",
     "output_type": "stream",
     "text": [
      "\n"
     ]
    },
    {
     "name": "stdout",
     "output_type": "stream",
     "text": [
      "\n",
      "      Epoch    GPU_mem       loss  Instances       Size\n"
     ]
    },
    {
     "name": "stderr",
     "output_type": "stream",
     "text": [
      "      31/50      1.44G     0.0419          7        640: 100%|██████████| 936/936 [01:12<00:00, 12.83it/s]\n",
      "               classes   top1_acc   top5_acc: 100%|██████████| 156/156 [00:20<00:00,  7.63it/s]"
     ]
    },
    {
     "name": "stdout",
     "output_type": "stream",
     "text": [
      "                   all      0.991          1\n"
     ]
    },
    {
     "name": "stderr",
     "output_type": "stream",
     "text": [
      "\n"
     ]
    },
    {
     "name": "stdout",
     "output_type": "stream",
     "text": [
      "\n",
      "      Epoch    GPU_mem       loss  Instances       Size\n"
     ]
    },
    {
     "name": "stderr",
     "output_type": "stream",
     "text": [
      "      32/50      1.44G    0.03871          7        640: 100%|██████████| 936/936 [01:12<00:00, 12.85it/s]\n",
      "               classes   top1_acc   top5_acc: 100%|██████████| 156/156 [00:20<00:00,  7.56it/s]"
     ]
    },
    {
     "name": "stdout",
     "output_type": "stream",
     "text": [
      "                   all      0.989          1\n"
     ]
    },
    {
     "name": "stderr",
     "output_type": "stream",
     "text": [
      "\n"
     ]
    },
    {
     "name": "stdout",
     "output_type": "stream",
     "text": [
      "\n",
      "      Epoch    GPU_mem       loss  Instances       Size\n"
     ]
    },
    {
     "name": "stderr",
     "output_type": "stream",
     "text": [
      "      33/50      1.44G    0.04046          7        640: 100%|██████████| 936/936 [01:12<00:00, 12.85it/s]\n",
      "               classes   top1_acc   top5_acc: 100%|██████████| 156/156 [00:20<00:00,  7.55it/s]"
     ]
    },
    {
     "name": "stdout",
     "output_type": "stream",
     "text": [
      "                   all      0.989          1\n"
     ]
    },
    {
     "name": "stderr",
     "output_type": "stream",
     "text": [
      "\n"
     ]
    },
    {
     "name": "stdout",
     "output_type": "stream",
     "text": [
      "\n",
      "      Epoch    GPU_mem       loss  Instances       Size\n"
     ]
    },
    {
     "name": "stderr",
     "output_type": "stream",
     "text": [
      "      34/50      1.44G     0.0353          7        640: 100%|██████████| 936/936 [01:12<00:00, 12.86it/s]\n",
      "               classes   top1_acc   top5_acc: 100%|██████████| 156/156 [00:21<00:00,  7.41it/s]"
     ]
    },
    {
     "name": "stdout",
     "output_type": "stream",
     "text": [
      "                   all      0.989          1\n"
     ]
    },
    {
     "name": "stderr",
     "output_type": "stream",
     "text": [
      "\n"
     ]
    },
    {
     "name": "stdout",
     "output_type": "stream",
     "text": [
      "\n",
      "      Epoch    GPU_mem       loss  Instances       Size\n"
     ]
    },
    {
     "name": "stderr",
     "output_type": "stream",
     "text": [
      "      35/50      1.44G    0.03695          7        640: 100%|██████████| 936/936 [01:13<00:00, 12.65it/s]\n",
      "               classes   top1_acc   top5_acc: 100%|██████████| 156/156 [00:20<00:00,  7.60it/s]"
     ]
    },
    {
     "name": "stdout",
     "output_type": "stream",
     "text": [
      "                   all       0.99          1\n"
     ]
    },
    {
     "name": "stderr",
     "output_type": "stream",
     "text": [
      "\n"
     ]
    },
    {
     "name": "stdout",
     "output_type": "stream",
     "text": [
      "\n",
      "      Epoch    GPU_mem       loss  Instances       Size\n"
     ]
    },
    {
     "name": "stderr",
     "output_type": "stream",
     "text": [
      "      36/50      1.44G    0.03094          7        640: 100%|██████████| 936/936 [01:12<00:00, 12.83it/s]\n",
      "               classes   top1_acc   top5_acc: 100%|██████████| 156/156 [00:20<00:00,  7.43it/s]"
     ]
    },
    {
     "name": "stdout",
     "output_type": "stream",
     "text": [
      "                   all       0.99          1\n",
      "\u001b[34m\u001b[1mEarlyStopping: \u001b[0mTraining stopped early as no improvement observed in last 5 epochs. Best results observed at epoch 31, best model saved as best.pt.\n",
      "To update EarlyStopping(patience=5) pass a new patience value, i.e. `patience=300` or use `patience=0` to disable EarlyStopping.\n"
     ]
    },
    {
     "name": "stderr",
     "output_type": "stream",
     "text": [
      "\n"
     ]
    },
    {
     "name": "stdout",
     "output_type": "stream",
     "text": [
      "\n",
      "36 epochs completed in 0.945 hours.\n",
      "Optimizer stripped from runs\\classify\\train\\weights\\last.pt, 3.0MB\n",
      "Optimizer stripped from runs\\classify\\train\\weights\\best.pt, 3.0MB\n",
      "\n",
      "Validating runs\\classify\\train\\weights\\best.pt...\n",
      "Ultralytics YOLOv8.2.42  Python-3.9.19 torch-2.2.2 CUDA:0 (NVIDIA GeForce RTX 3050, 8192MiB)\n",
      "YOLOv8n-cls summary (fused): 73 layers, 1437442 parameters, 0 gradients, 3.3 GFLOPs\n",
      "\u001b[34m\u001b[1mtrain:\u001b[0m C:\\Users\\\\Desktop\\startup\\data\\train... found 14967 images in 2 classes  \n",
      "\u001b[34m\u001b[1mval:\u001b[0m C:\\Users\\\\Desktop\\startup\\data\\val... found 4989 images in 2 classes  \n",
      "\u001b[34m\u001b[1mtest:\u001b[0m C:\\Users\\\\Desktop\\startup\\data\\test... found 4989 images in 2 classes  \n"
     ]
    },
    {
     "name": "stderr",
     "output_type": "stream",
     "text": [
      "               classes   top1_acc   top5_acc: 100%|██████████| 156/156 [00:21<00:00,  7.36it/s]\n"
     ]
    },
    {
     "name": "stdout",
     "output_type": "stream",
     "text": [
      "                   all      0.991          1\n",
      "Speed: 0.8ms preprocess, 1.1ms inference, 0.0ms loss, 0.0ms postprocess per image\n",
      "Results saved to \u001b[1mruns\\classify\\train\u001b[0m\n",
      "Results saved to \u001b[1mruns\\classify\\train\u001b[0m\n"
     ]
    }
   ],
   "source": [
    "create_train_val_test_dirs('kagglecatsanddogs_5340/PetImages', output_dirs, classes, supported_formats, unsupported_formats)\n",
    "model = YOLO(\"yolov8n-cls.pt\")\n",
    "results = train_yolo_model(model, \"data\")"
   ]
  },
  {
   "cell_type": "code",
   "execution_count": null,
   "id": "b058bdc1",
   "metadata": {},
   "outputs": [],
   "source": []
  },
  {
   "cell_type": "code",
   "execution_count": null,
   "id": "c804bcdf",
   "metadata": {},
   "outputs": [],
   "source": []
  },
  {
   "cell_type": "code",
   "execution_count": null,
   "id": "ff13d35e",
   "metadata": {},
   "outputs": [],
   "source": []
  },
  {
   "cell_type": "code",
   "execution_count": null,
   "id": "e09fe202",
   "metadata": {},
   "outputs": [],
   "source": []
  }
 ],
 "metadata": {
  "kernelspec": {
   "display_name": "Python [conda env:anaconda3-startup] *",
   "language": "python",
   "name": "conda-env-anaconda3-startup-py"
  },
  "language_info": {
   "codemirror_mode": {
    "name": "ipython",
    "version": 3
   },
   "file_extension": ".py",
   "mimetype": "text/x-python",
   "name": "python",
   "nbconvert_exporter": "python",
   "pygments_lexer": "ipython3",
   "version": "3.9.19"
  }
 },
 "nbformat": 4,
 "nbformat_minor": 5
}
